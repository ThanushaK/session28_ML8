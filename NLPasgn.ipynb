{
 "cells": [
  {
   "cell_type": "code",
   "execution_count": 1,
   "metadata": {},
   "outputs": [],
   "source": [
    "from bs4 import BeautifulSoup\n",
    "import urllib.request\n",
    "import nltk                            #import request library , nltk\n"
   ]
  },
  {
   "cell_type": "code",
   "execution_count": 2,
   "metadata": {},
   "outputs": [],
   "source": [
    "response = urllib.request.urlopen(\"http://php.net/\")  #get the url and make request with url\n",
    "\n",
    "html=response.read()    "
   ]
  },
  {
   "cell_type": "code",
   "execution_count": 3,
   "metadata": {},
   "outputs": [],
   "source": [
    "soup = BeautifulSoup(html,\"html5lib\") #create beautiful soup object from html"
   ]
  },
  {
   "cell_type": "code",
   "execution_count": 4,
   "metadata": {},
   "outputs": [
    {
     "data": {
      "text/plain": [
       "<title>PHP: Hypertext Preprocessor</title>"
      ]
     },
     "execution_count": 4,
     "metadata": {},
     "output_type": "execute_result"
    }
   ],
   "source": [
    "soup.title"
   ]
  },
  {
   "cell_type": "code",
   "execution_count": 5,
   "metadata": {},
   "outputs": [
    {
     "data": {
      "text/plain": [
       "'PHP: Hypertext Preprocessor'"
      ]
     },
     "execution_count": 5,
     "metadata": {},
     "output_type": "execute_result"
    }
   ],
   "source": [
    "soup.title.string"
   ]
  },
  {
   "cell_type": "code",
   "execution_count": 6,
   "metadata": {},
   "outputs": [
    {
     "data": {
      "text/plain": [
       "[<a class=\"brand\" href=\"/\"><img alt=\"php\" height=\"24\" src=\"/images/logos/php-logo.svg\" width=\"48\"/></a>,\n",
       " <a href=\"/downloads\">Downloads</a>,\n",
       " <a href=\"/docs.php\">Documentation</a>,\n",
       " <a href=\"/get-involved\">Get Involved</a>,\n",
       " <a href=\"/support\">Help</a>,\n",
       " <a href=\"/manual/en/getting-started.php\">Getting Started</a>,\n",
       " <a href=\"/manual/en/introduction.php\">Introduction</a>,\n",
       " <a href=\"/manual/en/tutorial.php\">A simple tutorial</a>,\n",
       " <a href=\"/manual/en/langref.php\">Language Reference</a>,\n",
       " <a href=\"/manual/en/language.basic-syntax.php\">Basic syntax</a>,\n",
       " <a href=\"/manual/en/language.types.php\">Types</a>,\n",
       " <a href=\"/manual/en/language.variables.php\">Variables</a>]"
      ]
     },
     "execution_count": 6,
     "metadata": {},
     "output_type": "execute_result"
    }
   ],
   "source": [
    "soup.findAll('a')[:12]"
   ]
  },
  {
   "cell_type": "code",
   "execution_count": 8,
   "metadata": {},
   "outputs": [],
   "source": [
    "text = soup.get_text()# Getting the text out of the soup"
   ]
  },
  {
   "cell_type": "code",
   "execution_count": 9,
   "metadata": {},
   "outputs": [
    {
     "data": {
      "text/plain": [
       "'o contains several minor bug fixes.\\n\\n     All PHP 7.2 users are encouraged to upgrade to this version.\\n\\n     For source downloads of PHP 7.2.18 please visit our downloads page,\\n     Windows source and'"
      ]
     },
     "execution_count": 9,
     "metadata": {},
     "output_type": "execute_result"
    }
   ],
   "source": [
    "# Printing out text between characters 3200 and 3400\n",
    "text[3200:3400]"
   ]
  },
  {
   "cell_type": "code",
   "execution_count": 10,
   "metadata": {},
   "outputs": [
    {
     "data": {
      "text/plain": [
       "['PHP',\n",
       " 'Hypertext',\n",
       " 'Preprocessor',\n",
       " 'Downloads',\n",
       " 'Documentation',\n",
       " 'Get',\n",
       " 'Involved',\n",
       " 'Help']"
      ]
     },
     "execution_count": 10,
     "metadata": {},
     "output_type": "execute_result"
    }
   ],
   "source": [
    "#extracting words\n",
    "# Creating a tokenizer\n",
    "tokenizer = nltk.tokenize.RegexpTokenizer('\\w+')\n",
    "\n",
    "# Tokenizing the text\n",
    "tokens = tokenizer.tokenize(text)\n",
    "\n",
    "# Printing out the first 8 words / tokens \n",
    "tokens[:8]"
   ]
  },
  {
   "cell_type": "code",
   "execution_count": 11,
   "metadata": {},
   "outputs": [
    {
     "data": {
      "text/plain": [
       "['php',\n",
       " 'hypertext',\n",
       " 'preprocessor',\n",
       " 'downloads',\n",
       " 'documentation',\n",
       " 'get',\n",
       " 'involved',\n",
       " 'help']"
      ]
     },
     "execution_count": 11,
     "metadata": {},
     "output_type": "execute_result"
    }
   ],
   "source": [
    "#make lower words\n",
    "# A new list to hold the lowercased words\n",
    "words = []\n",
    "\n",
    "# Looping through the tokens and make them lower case\n",
    "for word in tokens:\n",
    "    words.append(word.lower())\n",
    "\n",
    "# Printing out the first 8 words / tokens \n",
    "words[:8]"
   ]
  },
  {
   "cell_type": "code",
   "execution_count": 15,
   "metadata": {},
   "outputs": [
    {
     "name": "stdout",
     "output_type": "stream",
     "text": [
      "[nltk_data] Downloading package stopwords to\n",
      "[nltk_data]     C:\\Users\\thanusha\\AppData\\Roaming\\nltk_data...\n",
      "[nltk_data]   Unzipping corpora\\stopwords.zip.\n"
     ]
    },
    {
     "data": {
      "text/plain": [
       "['i', 'me', 'my', 'myself', 'we', 'our', 'ours', 'ourselves']"
      ]
     },
     "execution_count": 15,
     "metadata": {},
     "output_type": "execute_result"
    }
   ],
   "source": [
    "import nltk\n",
    "nltk.download('stopwords')\n",
    "# Getting the English stop words from nltk\n",
    "sw = nltk.corpus.stopwords.words('english')\n",
    "\n",
    "# Printing out the first eight stop words\n",
    "sw[:8]"
   ]
  },
  {
   "cell_type": "code",
   "execution_count": 16,
   "metadata": {},
   "outputs": [
    {
     "data": {
      "text/plain": [
       "['php', 'hypertext', 'preprocessor', 'downloads', 'documentation']"
      ]
     },
     "execution_count": 16,
     "metadata": {},
     "output_type": "execute_result"
    }
   ],
   "source": [
    "# A new list to hold Moby Dick with No Stop words\n",
    "# Appending to words_ns all words that are in words but not in sw\n",
    "    \n",
    "words_ns = [word for word in words if word not in sw]\n",
    "\n",
    "# Printing the first 5 words_ns to check that stop words are gone\n",
    "words_ns[:5]"
   ]
  },
  {
   "cell_type": "code",
   "execution_count": 17,
   "metadata": {},
   "outputs": [
    {
     "data": {
      "image/png": "[encoded data removed]",
      "text/plain": [
       "<Figure size 432x288 with 1 Axes>"
      ]
     },
     "metadata": {
      "needs_background": "light"
     },
     "output_type": "display_data"
    }
   ],
   "source": [
    "# This command display figures inline\n",
    "%matplotlib inline\n",
    "\n",
    "# Creating the word frequency distribution\n",
    "freqdist = nltk.FreqDist(words_ns)\n",
    "\n",
    "# Plotting the word frequency distribution\n",
    "freqdist.plot(25)"
   ]
  },
  {
   "cell_type": "code",
   "execution_count": null,
   "metadata": {},
   "outputs": [],
   "source": []
  }
 ],
 "metadata": {
  "kernelspec": {
   "display_name": "Python 3",
   "language": "python",
   "name": "python3"
  },
  "language_info": {
   "codemirror_mode": {
    "name": "ipython",
    "version": 3
   },
   "file_extension": ".py",
   "mimetype": "text/x-python",
   "name": "python",
   "nbconvert_exporter": "python",
   "pygments_lexer": "ipython3",
   "version": "3.7.0"
  }
 },
 "nbformat": 4,
 "nbformat_minor": 2
}
